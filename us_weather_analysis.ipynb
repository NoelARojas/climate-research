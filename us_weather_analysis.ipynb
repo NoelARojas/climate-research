{
 "cells": [
  {
   "cell_type": "code",
   "execution_count": 1,
   "metadata": {},
   "outputs": [],
   "source": [
    "import pandas as pd\n",
    "import os\n",
    "import matplotlib.pyplot as plt\n",
    "from itertools import combinations\n",
    "from collections import Counter"
   ]
  },
  {
   "cell_type": "markdown",
   "metadata": {},
   "source": [
    "## First talk: Merge all the data into a single file"
   ]
  },
  {
   "cell_type": "code",
   "execution_count": 2,
   "metadata": {},
   "outputs": [],
   "source": [
    "df = pd.read_csv(\"C:/Users/noela/Desktop/ReseachProject/my_data/usa_weather_data_2000_.csv\")\n",
    "files = [file for file in os.listdir(\"C:/Users/noela/Desktop/ReseachProject/my_data\")]\n",
    "\n",
    "all_data = pd.DataFrame()\n",
    "\n",
    "for file in files:\n",
    "    df = pd.read_csv(\"C:/Users/noela/Desktop/ReseachProject/my_data/\" + file)\n",
    "    all_data = pd.concat([all_data, df])\n",
    "    \n",
    "all_data.to_csv(\"all_data.csv\", index = False)"
   ]
  },
  {
   "cell_type": "markdown",
   "metadata": {},
   "source": [
    "## Read in updated framework"
   ]
  },
  {
   "cell_type": "code",
   "execution_count": 3,
   "metadata": {},
   "outputs": [
    {
     "data": {
      "text/html": [
       "<div>\n",
       "<style scoped>\n",
       "    .dataframe tbody tr th:only-of-type {\n",
       "        vertical-align: middle;\n",
       "    }\n",
       "\n",
       "    .dataframe tbody tr th {\n",
       "        vertical-align: top;\n",
       "    }\n",
       "\n",
       "    .dataframe thead th {\n",
       "        text-align: right;\n",
       "    }\n",
       "</style>\n",
       "<table border=\"1\" class=\"dataframe\">\n",
       "  <thead>\n",
       "    <tr style=\"text-align: right;\">\n",
       "      <th></th>\n",
       "      <th>Date</th>\n",
       "      <th>State</th>\n",
       "      <th>City</th>\n",
       "      <th>Zone ID</th>\n",
       "      <th>Min_Temperature</th>\n",
       "      <th>Mean_Temperature</th>\n",
       "      <th>Max_Temperature</th>\n",
       "    </tr>\n",
       "  </thead>\n",
       "  <tbody>\n",
       "    <tr>\n",
       "      <td>0</td>\n",
       "      <td>2000/01</td>\n",
       "      <td>Alabama</td>\n",
       "      <td>Mobile</td>\n",
       "      <td>KBFM</td>\n",
       "      <td>27.0</td>\n",
       "      <td>52.805593</td>\n",
       "      <td>79.0</td>\n",
       "    </tr>\n",
       "    <tr>\n",
       "      <td>1</td>\n",
       "      <td>2000/01</td>\n",
       "      <td>Alabama</td>\n",
       "      <td>Montgomery</td>\n",
       "      <td>KMXF</td>\n",
       "      <td>25.0</td>\n",
       "      <td>6.986270</td>\n",
       "      <td>77.0</td>\n",
       "    </tr>\n",
       "    <tr>\n",
       "      <td>2</td>\n",
       "      <td>2000/01</td>\n",
       "      <td>Alabama</td>\n",
       "      <td>Mobile</td>\n",
       "      <td>KMOB</td>\n",
       "      <td>25.0</td>\n",
       "      <td>53.179901</td>\n",
       "      <td>77.0</td>\n",
       "    </tr>\n",
       "    <tr>\n",
       "      <td>3</td>\n",
       "      <td>2000/01</td>\n",
       "      <td>Alabama</td>\n",
       "      <td>Birmingham</td>\n",
       "      <td>KBHM</td>\n",
       "      <td>18.0</td>\n",
       "      <td>43.460048</td>\n",
       "      <td>69.0</td>\n",
       "    </tr>\n",
       "    <tr>\n",
       "      <td>4</td>\n",
       "      <td>2000/01</td>\n",
       "      <td>Alabama</td>\n",
       "      <td>Mobile</td>\n",
       "      <td>1AZ0</td>\n",
       "      <td>34.0</td>\n",
       "      <td>36.660934</td>\n",
       "      <td>81.0</td>\n",
       "    </tr>\n",
       "  </tbody>\n",
       "</table>\n",
       "</div>"
      ],
      "text/plain": [
       "      Date    State        City Zone ID  Min_Temperature  Mean_Temperature  \\\n",
       "0  2000/01  Alabama      Mobile    KBFM             27.0         52.805593   \n",
       "1  2000/01  Alabama  Montgomery    KMXF             25.0          6.986270   \n",
       "2  2000/01  Alabama      Mobile    KMOB             25.0         53.179901   \n",
       "3  2000/01  Alabama  Birmingham    KBHM             18.0         43.460048   \n",
       "4  2000/01  Alabama      Mobile    1AZ0             34.0         36.660934   \n",
       "\n",
       "   Max_Temperature  \n",
       "0             79.0  \n",
       "1             77.0  \n",
       "2             77.0  \n",
       "3             69.0  \n",
       "4             81.0  "
      ]
     },
     "execution_count": 3,
     "metadata": {},
     "output_type": "execute_result"
    }
   ],
   "source": [
    "all_data = pd.read_csv(\"all_data.csv\")\n",
    "all_data.head()"
   ]
  },
  {
   "cell_type": "markdown",
   "metadata": {},
   "source": [
    "## Add a year and a month column"
   ]
  },
  {
   "cell_type": "code",
   "execution_count": 4,
   "metadata": {},
   "outputs": [
    {
     "data": {
      "text/html": [
       "<div>\n",
       "<style scoped>\n",
       "    .dataframe tbody tr th:only-of-type {\n",
       "        vertical-align: middle;\n",
       "    }\n",
       "\n",
       "    .dataframe tbody tr th {\n",
       "        vertical-align: top;\n",
       "    }\n",
       "\n",
       "    .dataframe thead th {\n",
       "        text-align: right;\n",
       "    }\n",
       "</style>\n",
       "<table border=\"1\" class=\"dataframe\">\n",
       "  <thead>\n",
       "    <tr style=\"text-align: right;\">\n",
       "      <th></th>\n",
       "      <th>Date</th>\n",
       "      <th>State</th>\n",
       "      <th>City</th>\n",
       "      <th>Zone ID</th>\n",
       "      <th>Min_Temperature</th>\n",
       "      <th>Mean_Temperature</th>\n",
       "      <th>Max_Temperature</th>\n",
       "      <th>Year</th>\n",
       "      <th>Month</th>\n",
       "    </tr>\n",
       "  </thead>\n",
       "  <tbody>\n",
       "    <tr>\n",
       "      <td>0</td>\n",
       "      <td>2000/01</td>\n",
       "      <td>Alabama</td>\n",
       "      <td>Mobile</td>\n",
       "      <td>KBFM</td>\n",
       "      <td>27.0</td>\n",
       "      <td>52.805593</td>\n",
       "      <td>79.0</td>\n",
       "      <td>2000</td>\n",
       "      <td>1</td>\n",
       "    </tr>\n",
       "    <tr>\n",
       "      <td>1</td>\n",
       "      <td>2000/01</td>\n",
       "      <td>Alabama</td>\n",
       "      <td>Montgomery</td>\n",
       "      <td>KMXF</td>\n",
       "      <td>25.0</td>\n",
       "      <td>6.986270</td>\n",
       "      <td>77.0</td>\n",
       "      <td>2000</td>\n",
       "      <td>1</td>\n",
       "    </tr>\n",
       "    <tr>\n",
       "      <td>2</td>\n",
       "      <td>2000/01</td>\n",
       "      <td>Alabama</td>\n",
       "      <td>Mobile</td>\n",
       "      <td>KMOB</td>\n",
       "      <td>25.0</td>\n",
       "      <td>53.179901</td>\n",
       "      <td>77.0</td>\n",
       "      <td>2000</td>\n",
       "      <td>1</td>\n",
       "    </tr>\n",
       "    <tr>\n",
       "      <td>3</td>\n",
       "      <td>2000/01</td>\n",
       "      <td>Alabama</td>\n",
       "      <td>Birmingham</td>\n",
       "      <td>KBHM</td>\n",
       "      <td>18.0</td>\n",
       "      <td>43.460048</td>\n",
       "      <td>69.0</td>\n",
       "      <td>2000</td>\n",
       "      <td>1</td>\n",
       "    </tr>\n",
       "    <tr>\n",
       "      <td>4</td>\n",
       "      <td>2000/01</td>\n",
       "      <td>Alabama</td>\n",
       "      <td>Mobile</td>\n",
       "      <td>1AZ0</td>\n",
       "      <td>34.0</td>\n",
       "      <td>36.660934</td>\n",
       "      <td>81.0</td>\n",
       "      <td>2000</td>\n",
       "      <td>1</td>\n",
       "    </tr>\n",
       "  </tbody>\n",
       "</table>\n",
       "</div>"
      ],
      "text/plain": [
       "      Date    State        City Zone ID  Min_Temperature  Mean_Temperature  \\\n",
       "0  2000/01  Alabama      Mobile    KBFM             27.0         52.805593   \n",
       "1  2000/01  Alabama  Montgomery    KMXF             25.0          6.986270   \n",
       "2  2000/01  Alabama      Mobile    KMOB             25.0         53.179901   \n",
       "3  2000/01  Alabama  Birmingham    KBHM             18.0         43.460048   \n",
       "4  2000/01  Alabama      Mobile    1AZ0             34.0         36.660934   \n",
       "\n",
       "   Max_Temperature  Year  Month  \n",
       "0             79.0  2000      1  \n",
       "1             77.0  2000      1  \n",
       "2             77.0  2000      1  \n",
       "3             69.0  2000      1  \n",
       "4             81.0  2000      1  "
      ]
     },
     "execution_count": 4,
     "metadata": {},
     "output_type": "execute_result"
    }
   ],
   "source": [
    "all_data[\"Year\"] = all_data[\"Date\"].str[0:4]\n",
    "all_data[\"Year\"] = all_data[\"Year\"].astype(\"int32\")\n",
    "\n",
    "all_data[\"Month\"] = all_data[\"Date\"].str[5:]\n",
    "all_data[\"Month\"] = all_data[\"Month\"].astype(\"int32\")\n",
    "all_data.head()"
   ]
  },
  {
   "cell_type": "code",
   "execution_count": 5,
   "metadata": {},
   "outputs": [],
   "source": [
    "all_data[\"Mean_Temperature\"] = pd.to_numeric(all_data[\"Mean_Temperature\"])\n",
    "all_data[\"Min_Temperature\"] = pd.to_numeric(all_data[\"Min_Temperature\"])\n",
    "all_data[\"Max_Temperature\"] = pd.to_numeric(all_data[\"Max_Temperature\"])\n",
    "all_data[\"Year\"] = pd.to_numeric(all_data[\"Year\"])\n",
    "all_data[\"Month\"] = pd.to_numeric(all_data[\"Month\"])"
   ]
  },
  {
   "cell_type": "code",
   "execution_count": null,
   "metadata": {},
   "outputs": [],
   "source": []
  },
  {
   "cell_type": "code",
   "execution_count": null,
   "metadata": {},
   "outputs": [],
   "source": []
  },
  {
   "cell_type": "code",
   "execution_count": null,
   "metadata": {},
   "outputs": [],
   "source": []
  },
  {
   "cell_type": "markdown",
   "metadata": {},
   "source": [
    "## Ploting temperatures in the USA"
   ]
  },
  {
   "cell_type": "code",
   "execution_count": 14,
   "metadata": {},
   "outputs": [
    {
     "data": {
      "image/png": "[encoded data removed]",
      "text/plain": [
       "<Figure size 720x432 with 1 Axes>"
      ]
     },
     "metadata": {
      "needs_background": "light"
     },
     "output_type": "display_data"
    }
   ],
   "source": [
    "year = [year for year, df in all_data.groupby(\"Year\")]\n",
    "results = all_data.groupby('Year')['Mean_Temperature'].mean()\n",
    "\n",
    "plt.bar(year, results)\n",
    "plt.xticks(year, rotation = 'vertical', size = 10)\n",
    "plt.ylabel(\"Ave Temp\")\n",
    "plt.xlabel(\"Year\")\n",
    "plt.show()"
   ]
  },
  {
   "cell_type": "code",
   "execution_count": 22,
   "metadata": {},
   "outputs": [
    {
     "data": {
      "image/png": "[encoded data removed]",
      "text/plain": [
       "<Figure size 720x432 with 1 Axes>"
      ]
     },
     "metadata": {
      "needs_background": "light"
     },
     "output_type": "display_data"
    }
   ],
   "source": [
    "year = [year for year, df in all_data.groupby(\"Year\")]\n",
    "results = all_data.groupby('Year')['Mean_Temperature'].max()\n",
    "\n",
    "plt.bar(year, results)\n",
    "plt.xticks(year, rotation = 'vertical', size = 10)\n",
    "plt.ylabel(\"Max Temp\")\n",
    "plt.xlabel(\"Year\")\n",
    "plt.show()"
   ]
  },
  {
   "cell_type": "code",
   "execution_count": 23,
   "metadata": {},
   "outputs": [
    {
     "data": {
      "image/png": "[encoded data removed]",
      "text/plain": [
       "<Figure size 720x432 with 1 Axes>"
      ]
     },
     "metadata": {
      "needs_background": "light"
     },
     "output_type": "display_data"
    }
   ],
   "source": [
    "year = [year for year, df in all_data.groupby(\"Year\")]\n",
    "results = all_data.groupby('Year')['Mean_Temperature'].min()\n",
    "\n",
    "plt.bar(year, results)\n",
    "plt.xticks(year, rotation = 'vertical', size = 10)\n",
    "plt.ylabel(\"Min Temp\")\n",
    "plt.xlabel(\"Year\")\n",
    "plt.show()"
   ]
  },
  {
   "cell_type": "code",
   "execution_count": 24,
   "metadata": {},
   "outputs": [
    {
     "data": {
      "image/png": "[encoded data removed]",
      "text/plain": [
       "<Figure size 720x432 with 1 Axes>"
      ]
     },
     "metadata": {
      "needs_background": "light"
     },
     "output_type": "display_data"
    }
   ],
   "source": [
    "month = [month for month, df in all_data.groupby(\"Month\")]\n",
    "results = all_data.groupby('Month')['Min_Temperature'].max()\n",
    "\n",
    "plt.bar(month, results)\n",
    "plt.xticks(month, size = 8)\n",
    "plt.ylabel(\"Min Temp\")\n",
    "plt.xlabel(\"Month\")\n",
    "plt.show()"
   ]
  },
  {
   "cell_type": "code",
   "execution_count": null,
   "metadata": {},
   "outputs": [],
   "source": []
  },
  {
   "cell_type": "code",
   "execution_count": 25,
   "metadata": {},
   "outputs": [
    {
     "data": {
      "image/png": "[encoded data removed]",
      "text/plain": [
       "<Figure size 720x432 with 1 Axes>"
      ]
     },
     "metadata": {
      "needs_background": "light"
     },
     "output_type": "display_data"
    }
   ],
   "source": [
    "months = [\"January\", \"February\", \"March\", \"April\", \"May\", \"June\", \"July\", \"August\", \"September\",\n",
    "          \"October\", \"November\", \"December\"]\n",
    "states = [state for state, df in all_data.groupby(\"State\")]\n",
    "results = all_data.groupby('State')['Max_Temperature'].mean()\n",
    "\n",
    "plt.bar(states, results)\n",
    "plt.xticks(states, rotation = 'vertical', size = 10)\n",
    "plt.ylabel(\"Max Temp\")\n",
    "plt.xlabel(\"State\")\n",
    "plt.rcParams['figure.figsize'] = (10,6)\n",
    "plt.show()"
   ]
  },
  {
   "cell_type": "code",
   "execution_count": null,
   "metadata": {},
   "outputs": [],
   "source": []
  },
  {
   "cell_type": "code",
   "execution_count": null,
   "metadata": {},
   "outputs": [],
   "source": []
  },
  {
   "cell_type": "code",
   "execution_count": null,
   "metadata": {},
   "outputs": [],
   "source": []
  },
  {
   "cell_type": "code",
   "execution_count": null,
   "metadata": {},
   "outputs": [],
   "source": []
  }
 ],
 "metadata": {
  "kernelspec": {
   "display_name": "Python 3",
   "language": "python",
   "name": "python3"
  },
  "language_info": {
   "codemirror_mode": {
    "name": "ipython",
    "version": 3
   },
   "file_extension": ".py",
   "mimetype": "text/x-python",
   "name": "python",
   "nbconvert_exporter": "python",
   "pygments_lexer": "ipython3",
   "version": "3.7.4"
  }
 },
 "nbformat": 4,
 "nbformat_minor": 2
}
